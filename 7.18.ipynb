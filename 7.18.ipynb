{
 "cells": [
  {
   "cell_type": "markdown",
   "metadata": {},
   "source": [
    "# 选择\n",
    "## 布尔类型、数值和表达式\n",
    "![](../Photo/33.png)\n",
    "- 注意：比较运算符的相等是两个等到，一个等到代表赋值\n",
    "- 在Python中可以用整型0来代表False，其他数字来代表True\n",
    "- 后面还会讲到 is 在判断语句中的用发"
   ]
  },
  {
   "cell_type": "code",
   "execution_count": null,
   "metadata": {},
   "outputs": [],
   "source": []
  },
  {
   "cell_type": "code",
   "execution_count": 7,
   "metadata": {},
   "outputs": [
    {
     "ename": "IndentationError",
     "evalue": "unexpected indent (<ipython-input-7-79d96a2dbe20>, line 8)",
     "output_type": "error",
     "traceback": [
      "\u001b[1;36m  File \u001b[1;32m\"<ipython-input-7-79d96a2dbe20>\"\u001b[1;36m, line \u001b[1;32m8\u001b[0m\n\u001b[1;33m    if z>12000:\u001b[0m\n\u001b[1;37m    ^\u001b[0m\n\u001b[1;31mIndentationError\u001b[0m\u001b[1;31m:\u001b[0m unexpected indent\n"
     ]
    }
   ],
   "source": [
    "y = 12000\n",
    "x = eval (input('密码'))\n",
    "if x == 123456:\n",
    "    print ('您的余额为',y)   \n",
    "else:\n",
    "    print ('您的密码错误')\n",
    "z = eval(input('输入您要取走的金额'))\n",
    "    if z>12000:\n",
    "        print('您的余额不足') \n",
    "    else:\n",
    "        print('您的余额为', y = y - z)"
   ]
  },
  {
   "cell_type": "code",
   "execution_count": 22,
   "metadata": {},
   "outputs": [
    {
     "name": "stdout",
     "output_type": "stream",
     "text": [
      "Money100\n",
      "消费 100\n",
      "余额 0\n"
     ]
    }
   ],
   "source": [
    "init_account = 100\n",
    "get_money = eval(input('Money'))\n",
    "if init_account >= get_money:\n",
    "    print('消费',get_money)\n",
    "    res = init_account - get_money\n",
    "    init_account = res\n",
    "    print('余额',res)\n",
    "#     send_message() # 函数\n",
    "else:\n",
    "    print('余额不足，请充值')"
   ]
  },
  {
   "cell_type": "markdown",
   "metadata": {},
   "source": [
    "## 字符串的比较使用ASCII值"
   ]
  },
  {
   "cell_type": "markdown",
   "metadata": {},
   "source": [
    "## Markdown \n",
    "- https://github.com/younghz/Markdown"
   ]
  },
  {
   "cell_type": "markdown",
   "metadata": {},
   "source": [
    "## EP:\n",
    "- <img src=\"../Photo/34.png\"></img>\n",
    "- 输入一个数字，判断其实奇数还是偶数"
   ]
  },
  {
   "cell_type": "markdown",
   "metadata": {},
   "source": [
    "## 产生随机数字\n",
    "- 函数random.randint(a,b) 可以用来产生一个a和b之间且包括a和b的随机整数"
   ]
  },
  {
   "cell_type": "markdown",
   "metadata": {},
   "source": [
    "##  其他random方法\n",
    "- random.random 返回0.0到1.0之间前闭后开区间的随机浮点\n",
    "- random.randrange(a,b) 前闭后开"
   ]
  },
  {
   "cell_type": "markdown",
   "metadata": {},
   "source": [
    "## EP：\n",
    "- 产生两个随机整数number1和number2，然后显示给用户，使用户输入数字的和，并判定其是否正确\n",
    "- 进阶:写一个随机序号点名程序"
   ]
  },
  {
   "cell_type": "code",
   "execution_count": 15,
   "metadata": {},
   "outputs": [
    {
     "name": "stdout",
     "output_type": "stream",
     "text": [
      "48 297\n",
      "和3000\n",
      "no\n"
     ]
    }
   ],
   "source": [
    "import random\n",
    "a = random.randint(1,100) \n",
    "b = random.randint(200,300)\n",
    "print(a,b)\n",
    "d = a + b\n",
    "c= int (input('和'))\n",
    "if d==c:\n",
    "    print ('yes')\n",
    "else:\n",
    "    print ('no')"
   ]
  },
  {
   "cell_type": "code",
   "execution_count": 20,
   "metadata": {},
   "outputs": [
    {
     "name": "stdout",
     "output_type": "stream",
     "text": [
      "请第 6 行 第 4 个同学回答问题\n"
     ]
    }
   ],
   "source": [
    "import random\n",
    "a = random.randint(1,10)\n",
    "b = random.randint(1,6)\n",
    "if b < 5:\n",
    "    print('请第',a,'行','第',b,'个同学回答问题')\n",
    "else:\n",
    "    print('请第 9 行','第',b,'个同学回答问题')"
   ]
  },
  {
   "cell_type": "markdown",
   "metadata": {},
   "source": [
    "## if语句\n",
    "- 如果条件正确就执行一个单向if语句，亦即当条件为真的时候才执行if内部的语句\n",
    "- Python有很多选择语句:\n",
    "> - 单向if \n",
    "  - 双向if-else\n",
    "  - 嵌套if\n",
    "  - 多向if-elif-else\n",
    "  \n",
    "- 注意：当语句含有子语句的时候，那么一定至少要有一个缩进，也就是说如果有儿子存在，那么一定要缩进\n",
    "- 切记不可tab键和space混用，单用tab 或者 space\n",
    "- 当你输出的结果是无论if是否为真时都需要显示时，语句应该与if对齐"
   ]
  },
  {
   "cell_type": "code",
   "execution_count": null,
   "metadata": {},
   "outputs": [],
   "source": [
    "x=eval(input('成绩'))\n",
    "if x >= 90:\n",
    "    print('A')\n",
    "elif x >= 80:\n",
    "    print('B')\n",
    "elif x >= 60:\n",
    "     print('C')\n",
    "else:\n",
    "    print('D')"
   ]
  },
  {
   "cell_type": "code",
   "execution_count": null,
   "metadata": {},
   "outputs": [],
   "source": []
  },
  {
   "cell_type": "markdown",
   "metadata": {},
   "source": [
    "## EP：\n",
    "- 用户输入一个数字，判断其实奇数还是偶数\n",
    "- 进阶：可以查看下4.5实例研究猜生日"
   ]
  },
  {
   "cell_type": "code",
   "execution_count": 3,
   "metadata": {},
   "outputs": [
    {
     "name": "stdout",
     "output_type": "stream",
     "text": [
      "数字3\n",
      "ji\n"
     ]
    }
   ],
   "source": [
    "x=int(input('数字'))\n",
    "if x % 2 == 0:\n",
    "    print ('ou')\n",
    "else:\n",
    "    print ('ji')"
   ]
  },
  {
   "cell_type": "code",
   "execution_count": null,
   "metadata": {},
   "outputs": [],
   "source": [
    "x = int (input('月份'))\n",
    "y = int (input('日子'))\n"
   ]
  },
  {
   "cell_type": "markdown",
   "metadata": {},
   "source": [
    "## 双向if-else 语句\n",
    "- 如果条件为真，那么走if内部语句，否则走else内部语句"
   ]
  },
  {
   "cell_type": "markdown",
   "metadata": {},
   "source": [
    "## EP：\n",
    "- 产生两个随机整数number1和number2，然后显示给用户，使用户输入数字，并判定其是否正确,如果正确打印“you‘re correct”，否则打印正确错误"
   ]
  },
  {
   "cell_type": "markdown",
   "metadata": {},
   "source": [
    "## 嵌套if 和多向if-elif-else\n",
    "![](../Photo/35.png)"
   ]
  },
  {
   "cell_type": "markdown",
   "metadata": {},
   "source": [
    "## EP：\n",
    "- 提示用户输入一个年份，然后显示表示这一年的动物\n",
    "![](../Photo/36.png)\n",
    "- 计算身体质量指数的程序\n",
    "- BMI = 以千克为单位的体重除以以米为单位的身高\n",
    "![](../Photo/37.png)"
   ]
  },
  {
   "cell_type": "code",
   "execution_count": 5,
   "metadata": {},
   "outputs": [
    {
     "name": "stdout",
     "output_type": "stream",
     "text": [
      "体重60\n",
      "身高1.6\n",
      "23.437499999999996\n",
      "标准\n"
     ]
    }
   ],
   "source": [
    "a = eval (input('体重'))\n",
    "b = eval (input('身高'))\n",
    "x = a / (b*b)\n",
    "print (x)\n",
    "if x < 18.5:\n",
    "    print ('超轻')\n",
    "if 25.0 > x >= 18.5:\n",
    "    print ('标准')\n",
    "if 30.0 > x >= 25.0:\n",
    "    print ('超重')\n",
    "if x >= 30.0:\n",
    "    print ('超肥')"
   ]
  },
  {
   "cell_type": "code",
   "execution_count": null,
   "metadata": {},
   "outputs": [],
   "source": [
    "x = int (input('年份'))\n",
    "if x % 12 == 0:\n",
    "    print ('猴')\n",
    "elif x % 12 == 1:\n",
    "    print ('鸡')\n",
    "elif x % 12 == 2:\n",
    "    print ('狗')\n",
    "elif x % 12 == 3:\n",
    "    print ('猪')\n",
    "elif x % 12 == 4:\n",
    "    print ('鼠')\n",
    "elif x % 12 == 5:\n",
    "    print ('牛')\n",
    "elif x % 12 == 6:\n",
    "    print ('虎')\n",
    "elif x % 12 == 7:\n",
    "    print ('兔')\n",
    "elif x % 12 == 8:\n",
    "    print ('龙')\n",
    "elif x % 12 == 9:\n",
    "    print ('蛇')\n",
    "elif x % 12 == 10:\n",
    "    print ('马')\n",
    "else:\n",
    "    print ('羊')\n",
    "\n"
   ]
  },
  {
   "cell_type": "markdown",
   "metadata": {},
   "source": [
    "## 逻辑运算符\n",
    "![](../Photo/38.png)"
   ]
  },
  {
   "cell_type": "markdown",
   "metadata": {},
   "source": [
    "![](../Photo/39.png)\n",
    "![](../Photo/40.png)"
   ]
  },
  {
   "cell_type": "markdown",
   "metadata": {},
   "source": [
    "## EP：\n",
    "- 判定闰年：一个年份如果能被4整除但不能被100整除，或者能被400整除，那么这个年份就是闰年\n",
    "- 提示用户输入一个年份，并返回是否是闰年\n",
    "- 提示用户输入一个数字，判断其是否为水仙花数"
   ]
  },
  {
   "cell_type": "code",
   "execution_count": 9,
   "metadata": {},
   "outputs": [
    {
     "name": "stdout",
     "output_type": "stream",
     "text": [
      "年份2018\n",
      "平年\n"
     ]
    }
   ],
   "source": [
    "x=int(input('年份'))\n",
    "if (x % 4 == 0 and x % 100 != 0) or x % 400 == 0:\n",
    "    print ('闰年')\n",
    "else:\n",
    "     print ('平年')"
   ]
  },
  {
   "cell_type": "code",
   "execution_count": 17,
   "metadata": {},
   "outputs": [
    {
     "name": "stdout",
     "output_type": "stream",
     "text": [
      "输入三位以上的数字123\n",
      "1 2 3\n",
      "no\n"
     ]
    }
   ],
   "source": [
    "x=int(input('输入三位以上的数字'))\n",
    "a = x // 100\n",
    "b = (x - a*100 ) // 10 \n",
    "c = (x-a*100-b*10)\n",
    "print (a,b,c)\n",
    "if (a * a * a + b * b * b + c * c * c == x):\n",
    "    print('yes')\n",
    "else:\n",
    "    print('no')\n",
    "  "
   ]
  },
  {
   "cell_type": "code",
   "execution_count": 18,
   "metadata": {},
   "outputs": [
    {
     "name": "stdout",
     "output_type": "stream",
     "text": [
      "153\n",
      "370\n",
      "371\n",
      "407\n"
     ]
    }
   ],
   "source": [
    "for i in range(100,1000):\n",
    "    a = i % 10\n",
    "    b = i // 100\n",
    "    c = (i // 10) % 10\n",
    "    e = a ** 3 + b ** 3 + c ** 3\n",
    "    if e == i:\n",
    "        print(e)"
   ]
  },
  {
   "cell_type": "code",
   "execution_count": null,
   "metadata": {},
   "outputs": [],
   "source": [
    "import math\n",
    "n = eval(input('shu'))\n",
    "str_"
   ]
  },
  {
   "cell_type": "markdown",
   "metadata": {},
   "source": [
    "## 实例研究：彩票\n",
    "![](../Photo/41.png)"
   ]
  },
  {
   "cell_type": "code",
   "execution_count": null,
   "metadata": {},
   "outputs": [],
   "source": [
    "import random\n",
    "a = input('请输入一个两位数： ')\n",
    "b = str(random.randint(10,99))\n",
    "print('随机生成： ',b)\n",
    "if a == (b[0]+b[1]):\n",
    "    print('恭喜获得10000$')\n",
    "elif a == (b[1]+b[0]):\n",
    "    print('恭喜获得3000$')\n",
    "elif a[0] == b[0] or a[0] == b[1] or a[1] == b[0] or a[1] == b[1]:\n",
    "    print('恭喜获得1000$')\n",
    "else:\n",
    "    print('抱歉什么也没有！')"
   ]
  },
  {
   "cell_type": "code",
   "execution_count": null,
   "metadata": {},
   "outputs": [],
   "source": []
  },
  {
   "cell_type": "markdown",
   "metadata": {},
   "source": [
    "# Homework\n",
    "- 1\n",
    "![](../Photo/42.png)"
   ]
  },
  {
   "cell_type": "code",
   "execution_count": 12,
   "metadata": {},
   "outputs": [
    {
     "name": "stdout",
     "output_type": "stream",
     "text": [
      "输入a,b,c1.0,3,1\n",
      "-0.3819660112501051 -2.618033988749895\n"
     ]
    }
   ],
   "source": [
    "import math\n",
    "a,b,c=eval(input('输入a,b,c'))\n",
    "A = b * b - 4 * a * c\n",
    "if A < 0:\n",
    "    print ('no')\n",
    "else:\n",
    "    if A == 0:\n",
    "        r =(-b + math.sqrt(b * b - 4 * a *c)) / (2 * a)\n",
    "        print(r)\n",
    "    elif A > 0:\n",
    "        r1=(-b + math.sqrt(b * b - 4 * a *c)) / (2 * a)\n",
    "        r2=(-b - math.sqrt(b * b - 4 * a *c)) / (2 * a)\n",
    "        print (r1,r2)\n"
   ]
  },
  {
   "cell_type": "markdown",
   "metadata": {},
   "source": [
    "### - 2\n",
    "![](../Photo/43.png)"
   ]
  },
  {
   "cell_type": "code",
   "execution_count": 6,
   "metadata": {},
   "outputs": [
    {
     "name": "stdout",
     "output_type": "stream",
     "text": [
      "95 89\n",
      "和100\n",
      "no\n"
     ]
    }
   ],
   "source": [
    "import random\n",
    "a = random.randint(1,100) \n",
    "b = random.randint(1,100)\n",
    "print(a,b)\n",
    "d = a + b\n",
    "c= int (input('和'))\n",
    "if d==c:\n",
    "    print ('yes')\n",
    "else:\n",
    "    print ('no')"
   ]
  },
  {
   "cell_type": "markdown",
   "metadata": {},
   "source": [
    "- 3\n",
    "![](../Photo/44.png)"
   ]
  },
  {
   "cell_type": "code",
   "execution_count": 9,
   "metadata": {},
   "outputs": [
    {
     "name": "stdout",
     "output_type": "stream",
     "text": [
      "今天是星期几0\n",
      "今天是周日\n",
      "你想知道几天后是星期几31\n",
      "31天后是周3\n"
     ]
    }
   ],
   "source": [
    "x = eval (input('今天是星期几'))\n",
    "if x==0:\n",
    "    print ('今天是周日')\n",
    "else:\n",
    "    print('今天是周',x)    \n",
    "y = eval (input('你想知道几天后是星期几'))\n",
    "a =( x+y ) % 7 \n",
    "if a==0:\n",
    "    print (str(y)+'天后是周日')\n",
    "else:\n",
    "    print(str(y) +'天后是周' +str((x+y)%7 ))\n"
   ]
  },
  {
   "cell_type": "raw",
   "metadata": {},
   "source": [
    "- 4\n",
    "![](../Photo/45.png)"
   ]
  },
  {
   "cell_type": "code",
   "execution_count": 25,
   "metadata": {},
   "outputs": [
    {
     "name": "stdout",
     "output_type": "stream",
     "text": [
      "输入三位整数1,8,3\n",
      "1 3 8\n"
     ]
    }
   ],
   "source": [
    "a,b,c = eval(input('输入三位整数'))\n",
    "x1=max(a,b,c)\n",
    "x2=min(a,b,c)\n",
    "x3=(a + b + c) - x1 - x2\n",
    "print(x2,x3,x1)\n"
   ]
  },
  {
   "cell_type": "markdown",
   "metadata": {},
   "source": [
    "- 5\n",
    "![](../Photo/46.png)"
   ]
  },
  {
   "cell_type": "code",
   "execution_count": null,
   "metadata": {},
   "outputs": [],
   "source": [
    "a,b= eval(input('请输入第一种大米的重量和价钱'))\n",
    "c,d= eval(input('请输入第二种大米的重量和价钱'))\n",
    "x = b / a\n",
    "y = d / c\n",
    "z = max(x,y)\n",
    "if z == x:\n",
    "    print ('第二种大米更好')\n",
    "else: \n",
    "    print ('第一种大米更好')"
   ]
  },
  {
   "cell_type": "markdown",
   "metadata": {},
   "source": [
    "- 6\n",
    "![](../Photo/47.png)"
   ]
  },
  {
   "cell_type": "code",
   "execution_count": 33,
   "metadata": {},
   "outputs": [
    {
     "name": "stdout",
     "output_type": "stream",
     "text": [
      "输入年份和月份：2018,2\n",
      "2018年2月有28天\n"
     ]
    }
   ],
   "source": [
    "n,y = eval(input('输入年份和月份：'))\n",
    "if (y>6 and y%2==0) or (y<8 and y%2==1):\n",
    "    print(str(n) + '年' +str(y)+'月有31天' )\n",
    "elif y==2:\n",
    "    if (n%4==0 and n%100 != 0) or n%400==0:\n",
    "        print(str(n) + '年' +str(y)+'月有29天')\n",
    "    else:\n",
    "        print(str(n) + '年' +str(y)+'月有28天')\n",
    "else:\n",
    "    print((str(n) + '年' +str(y)+'月有30天' ))\n",
    "\n"
   ]
  },
  {
   "cell_type": "markdown",
   "metadata": {},
   "source": [
    "- 7\n",
    "![](../Photo/48.png)"
   ]
  },
  {
   "cell_type": "code",
   "execution_count": 31,
   "metadata": {},
   "outputs": [
    {
     "name": "stdout",
     "output_type": "stream",
     "text": [
      "请猜测：1\n",
      "1 1\n",
      "正确\n"
     ]
    }
   ],
   "source": [
    "import random\n",
    "a = random.randint(1,2)\n",
    "b = eval(input('请猜测：'))\n",
    "print(a,b)\n",
    "if a==b:\n",
    "    print('正确')\n",
    "else:\n",
    "    print('错误')"
   ]
  },
  {
   "cell_type": "markdown",
   "metadata": {},
   "source": [
    "- 8\n",
    "![](../Photo/49.png)"
   ]
  },
  {
   "cell_type": "code",
   "execution_count": 28,
   "metadata": {},
   "outputs": [
    {
     "name": "stdout",
     "output_type": "stream",
     "text": [
      "请出手：1\n",
      "0 1\n",
      "输了\n"
     ]
    }
   ],
   "source": [
    "import random\n",
    "a = random.randint(0,2)\n",
    "b = eval(input('请出手：'))\n",
    "print(a,b)\n",
    "if a==b:\n",
    "    print('平局')\n",
    "else:\n",
    "    if ((a == 0 and b == 2) or (a == 1 and b == 0) or (a == 2 and b == 1)):\n",
    "        print ('赢了')\n",
    "    else:\n",
    "         print ('输了')\n",
    "    "
   ]
  },
  {
   "cell_type": "markdown",
   "metadata": {},
   "source": [
    "- 9\n",
    "![](../Photo/50.png)"
   ]
  },
  {
   "cell_type": "markdown",
   "metadata": {},
   "source": [
    "- 10\n",
    "![](../Photo/51.png)"
   ]
  },
  {
   "cell_type": "code",
   "execution_count": 18,
   "metadata": {},
   "outputs": [
    {
     "name": "stdout",
     "output_type": "stream",
     "text": [
      "黑桃 6\n"
     ]
    }
   ],
   "source": [
    "import random\n",
    "a = [\"Ace\",\"2\",\"3\",\"4\",\"5\",\"6\",\"7\",\"8\",\"9\",\"10\",\"Jack\",\"Queen\",\"King\"]\n",
    "b = [\"梅花\",\"红桃\",\"方块\",\"黑桃\"]\n",
    "x=a[random.randint(0,12)]\n",
    "y=b[random.randint(0,3)]\n",
    "print(y,x)"
   ]
  },
  {
   "cell_type": "markdown",
   "metadata": {},
   "source": [
    "- 11\n",
    "![](../Photo/52.png)"
   ]
  },
  {
   "cell_type": "code",
   "execution_count": 2,
   "metadata": {},
   "outputs": [
    {
     "name": "stdout",
     "output_type": "stream",
     "text": [
      "输入三位以上的数字123\n",
      "不是回文数\n"
     ]
    }
   ],
   "source": [
    "x=int(input('输入三位以上的数字'))\n",
    "a = x // 100\n",
    "b = (x - a*100 ) // 10 \n",
    "c = (x-a*100-b*10)\n",
    "if a==c:\n",
    "    print ('是回文数')\n",
    "else:\n",
    "    print ('不是回文数')"
   ]
  },
  {
   "cell_type": "markdown",
   "metadata": {},
   "source": [
    "- 12\n",
    "![](../Photo/53.png)"
   ]
  },
  {
   "cell_type": "code",
   "execution_count": 12,
   "metadata": {},
   "outputs": [
    {
     "name": "stdout",
     "output_type": "stream",
     "text": [
      "输入三个边2,2,3\n",
      "7\n"
     ]
    }
   ],
   "source": [
    "a,b,c = eval(input('输入三个边'))\n",
    "x=max(a,b,c)\n",
    "y=min(a,b,c)\n",
    "z=a+b+c-x-y\n",
    "#print(x,y,z)\n",
    "if y+z>x:\n",
    "    print (a+b+c)\n",
    "else:\n",
    "    print('不合格')\n",
    "\n",
    "    "
   ]
  }
 ],
 "metadata": {
  "kernelspec": {
   "display_name": "Python 3",
   "language": "python",
   "name": "python3"
  },
  "language_info": {
   "codemirror_mode": {
    "name": "ipython",
    "version": 3
   },
   "file_extension": ".py",
   "mimetype": "text/x-python",
   "name": "python",
   "nbconvert_exporter": "python",
   "pygments_lexer": "ipython3",
   "version": "3.6.4"
  }
 },
 "nbformat": 4,
 "nbformat_minor": 2
}
